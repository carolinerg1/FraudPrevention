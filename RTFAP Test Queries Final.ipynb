{
 "cells": [
  {
   "cell_type": "markdown",
   "metadata": {},
   "source": [
    "# Sample CQL Queries and Inserts"
   ]
  },
  {
   "cell_type": "code",
   "execution_count": 1,
   "metadata": {
    "collapsed": false,
    "scrolled": true
   },
   "outputs": [
    {
     "data": {
      "text/html": [
       "<table><tr><th>cc_no</th><th>year</th><th>month</th><th>day</th><th>txn_time</th><th>amount</th><th>cc_provider</th><th>country</th><th>date_text</th><th>hour</th><th>items</th><th>location</th><th>merchant</th><th>min</th><th>notes</th><th>solr_query</th><th>status</th><th>tags</th><th>txn_id</th><th>user_id</th></tr><tr><td>8815000002119388</td><td>2016</td><td>3</td><td>26</td><td>2016-04-26T14:30:39+0000</td><td>960.82</td><td>8815</td><td>CN</td><td>20160326</td><td>2</td><td>&lt;null&gt;</td><td></td><td>Family Dollar Stores</td><td>30</td><td>&lt;null&gt;</td><td>&lt;null&gt;</td><td>APPROVED</td><td>&lt;null&gt;</td><td>0b042ece-f351-4342-bed5-e1b226dedfde</td><td>&lt;null&gt;</td></tr><tr><td>3200000053200978</td><td>2016</td><td>3</td><td>26</td><td>2016-04-26T15:20:19+0000</td><td>386.96</td><td>3200</td><td>GB</td><td>20160326</td><td>3</td><td>&lt;null&gt;</td><td></td><td>Delhaize America</td><td>20</td><td>&lt;null&gt;</td><td>&lt;null&gt;</td><td>APPROVED</td><td>&lt;null&gt;</td><td>412d188f-9e09-45e3-a922-90a39fb3ef43</td><td>&lt;null&gt;</td></tr><tr><td>1471000091003184</td><td>2016</td><td>3</td><td>26</td><td>2016-04-26T14:27:18+0000</td><td>66.82</td><td>1471</td><td>AE</td><td>20160326</td><td>2</td><td>&lt;null&gt;</td><td></td><td>Macy's</td><td>27</td><td>&lt;null&gt;</td><td>&lt;null&gt;</td><td>APPROVED</td><td>&lt;null&gt;</td><td>c8df85a2-02e9-4dd4-9d02-0645abe56a8f</td><td>&lt;null&gt;</td></tr><tr><td>5235000043272920</td><td>2016</td><td>3</td><td>26</td><td>2016-04-26T15:45:20+0000</td><td>1113.94</td><td>5235</td><td>KR</td><td>20160326</td><td>3</td><td>&lt;null&gt;</td><td></td><td>CVS Caremark</td><td>45</td><td>&lt;null&gt;</td><td>&lt;null&gt;</td><td>APPROVED</td><td>&lt;null&gt;</td><td>3a8ae26c-5d8e-4e45-9a6f-49a91e1dec4d</td><td>&lt;null&gt;</td></tr><tr><td>3132000013276765</td><td>2016</td><td>3</td><td>26</td><td>2016-04-26T14:35:47+0000</td><td>1250.82</td><td>3132</td><td>SN</td><td>20160326</td><td>2</td><td>&lt;null&gt;</td><td></td><td>Sherwin-Williams</td><td>35</td><td>&lt;null&gt;</td><td>&lt;null&gt;</td><td>APPROVED</td><td>&lt;null&gt;</td><td>ec5cc868-495f-4e95-bfa6-9b59827fb3a2</td><td>&lt;null&gt;</td></tr><tr><td>4610000039261410</td><td>2016</td><td>3</td><td>26</td><td>2016-04-26T15:50:07+0000</td><td>1460.43</td><td>4610</td><td>CN</td><td>20160326</td><td>3</td><td>&lt;null&gt;</td><td></td><td>Wal-Mart Stores</td><td>50</td><td>&lt;null&gt;</td><td>&lt;null&gt;</td><td>APPROVED</td><td>&lt;null&gt;</td><td>7c3b133a-ab94-4429-a802-820715d29f42</td><td>&lt;null&gt;</td></tr><tr><td>7197000077691512</td><td>2016</td><td>3</td><td>26</td><td>2016-04-26T15:16:31+0000</td><td>758.22</td><td>7197</td><td>BD</td><td>20160326</td><td>3</td><td>&lt;null&gt;</td><td></td><td>WakeFern / ShopRite</td><td>16</td><td>&lt;null&gt;</td><td>&lt;null&gt;</td><td>APPROVED</td><td>&lt;null&gt;</td><td>4d938e6c-f560-4f2f-86ab-0392f24c8947</td><td>&lt;null&gt;</td></tr><tr><td>8303000049297257</td><td>2016</td><td>3</td><td>26</td><td>2016-04-26T15:25:14+0000</td><td>439.17</td><td>8303</td><td>CN</td><td>20160326</td><td>3</td><td>&lt;null&gt;</td><td></td><td>Wal-Mart Stores</td><td>25</td><td>&lt;null&gt;</td><td>&lt;null&gt;</td><td>APPROVED</td><td>&lt;null&gt;</td><td>0c7a643a-e25e-4840-9792-1f5a1ecbea46</td><td>&lt;null&gt;</td></tr><tr><td>9877000022471278</td><td>2016</td><td>3</td><td>26</td><td>2016-04-26T14:31:44+0000</td><td>1344.86</td><td>9877</td><td>CD</td><td>20160326</td><td>2</td><td>&lt;null&gt;</td><td></td><td>Wal-Mart Stores</td><td>31</td><td>&lt;null&gt;</td><td>&lt;null&gt;</td><td>APPROVED</td><td>&lt;null&gt;</td><td>cbbec75e-1d01-4ae1-a911-b9f5badec8e7</td><td>&lt;null&gt;</td></tr><tr><td>6843000023651430</td><td>2016</td><td>3</td><td>26</td><td>2016-04-26T15:52:29+0000</td><td>1068.28</td><td>6843</td><td>IN</td><td>20160326</td><td>3</td><td>&lt;null&gt;</td><td></td><td>McDonald's</td><td>52</td><td>&lt;null&gt;</td><td>&lt;null&gt;</td><td>APPROVED</td><td>&lt;null&gt;</td><td>0f330999-e966-4356-b30f-807d060a617b</td><td>&lt;null&gt;</td></tr></table>"
      ]
     },
     "execution_count": 1,
     "metadata": {},
     "output_type": "execute_result"
    }
   ],
   "source": [
    "%%cql select * from rtfap.transactions limit 10"
   ]
  },
  {
   "cell_type": "code",
   "execution_count": 10,
   "metadata": {
    "collapsed": false
   },
   "outputs": [
    {
     "data": {
      "text/html": [
       "<table><tr><th>cc_no</th><th>year</th><th>month</th><th>day</th><th>txn_time</th><th>amount</th><th>cc_provider</th><th>country</th><th>date_text</th><th>hour</th><th>items</th><th>location</th><th>merchant</th><th>min</th><th>notes</th><th>solr_query</th><th>status</th><th>tags</th><th>txn_id</th><th>user_id</th></tr><tr><td>8303000049297257</td><td>2016</td><td>3</td><td>26</td><td>2016-04-26T15:25:14+0000</td><td>439.17</td><td>8303</td><td>CN</td><td>20160326</td><td>3</td><td>&lt;null&gt;</td><td></td><td>Wal-Mart Stores</td><td>25</td><td>&lt;null&gt;</td><td>&lt;null&gt;</td><td>APPROVED</td><td>&lt;null&gt;</td><td>0c7a643a-e25e-4840-9792-1f5a1ecbea46</td><td>&lt;null&gt;</td></tr></table>"
      ]
     },
     "execution_count": 10,
     "metadata": {},
     "output_type": "execute_result"
    }
   ],
   "source": [
    "%%cql select * from rtfap.transactions where cc_no='8303000049297257' and year=2016 and month=3 and day=26 limit 10;"
   ]
  },
  {
   "cell_type": "code",
   "execution_count": 40,
   "metadata": {
    "collapsed": false
   },
   "outputs": [
    {
     "data": {
      "text/html": [
       "<table><tr></tr></table>"
      ]
     },
     "execution_count": 40,
     "metadata": {},
     "output_type": "execute_result"
    }
   ],
   "source": [
    "%%cql insert into rtfap.transactions (year, month, day, hour, min, txn_time, cc_no, amount, cc_provider, items, location, merchant, notes, status, txn_id, user_id, tags) VALUES ( 2016, 03, 17, 21, 04, '2016-03-17 21:04:19', '1234123412341234', 200.0, 'VISA', {'tshirt':25, 'dressshirt':50, 'trousers':125}, 'San Francisco', 'Nordstrom', 'asked for discounts', 'Approved', '763629', 'kunalak', {'Fraudulent'});"
   ]
  },
  {
   "cell_type": "markdown",
   "metadata": {},
   "source": [
    "# Sample CQL Solr_Queries"
   ]
  },
  {
   "cell_type": "code",
   "execution_count": 2,
   "metadata": {
    "collapsed": false
   },
   "outputs": [
    {
     "data": {
      "text/html": [
       "<table><tr><th>cc_no</th><th>year</th><th>month</th><th>day</th><th>txn_time</th><th>amount</th><th>cc_provider</th><th>country</th><th>date_text</th><th>hour</th><th>items</th><th>location</th><th>merchant</th><th>min</th><th>notes</th><th>solr_query</th><th>status</th><th>tags</th><th>txn_id</th><th>user_id</th></tr><tr><td>4291000063138309</td><td>2016</td><td>3</td><td>26</td><td>2016-04-26T13:49:36+0000</td><td>2381.0</td><td>4291</td><td>US</td><td>20160326</td><td>1</td><td>&lt;null&gt;</td><td>NY</td><td>Wal-Mart Stores</td><td>49</td><td>&lt;null&gt;</td><td>&lt;null&gt;</td><td>APPROVED</td><td>&lt;null&gt;</td><td>f4d2f32c-e0ef-4fde-b54e-a83483e9fedb</td><td>&lt;null&gt;</td></tr><tr><td>2498000080875394</td><td>2016</td><td>3</td><td>26</td><td>2016-04-26T13:49:36+0000</td><td>1997.04</td><td>2498</td><td>IN</td><td>20160326</td><td>1</td><td>&lt;null&gt;</td><td></td><td>The Kroger Co.</td><td>49</td><td>&lt;null&gt;</td><td>&lt;null&gt;</td><td>APPROVED</td><td>&lt;null&gt;</td><td>db384155-ebd2-4d72-8dc1-44656a49f10a</td><td>&lt;null&gt;</td></tr><tr><td>3727000046906322</td><td>2016</td><td>3</td><td>26</td><td>2016-04-26T13:49:36+0000</td><td>536.34</td><td>3727</td><td>CN</td><td>20160326</td><td>1</td><td>&lt;null&gt;</td><td></td><td>The Kroger Co.</td><td>49</td><td>&lt;null&gt;</td><td>&lt;null&gt;</td><td>APPROVED</td><td>&lt;null&gt;</td><td>08199b5f-cf68-42f1-993d-885192d65b5b</td><td>&lt;null&gt;</td></tr><tr><td>5211000026326985</td><td>2016</td><td>3</td><td>26</td><td>2016-04-26T13:49:36+0000</td><td>1444.35</td><td>5211</td><td>KP</td><td>20160326</td><td>1</td><td>&lt;null&gt;</td><td></td><td>Wal-Mart Stores</td><td>49</td><td>&lt;null&gt;</td><td>&lt;null&gt;</td><td>APPROVED</td><td>&lt;null&gt;</td><td>1207372d-38c7-4680-9353-a3a2061e1e78</td><td>&lt;null&gt;</td></tr><tr><td>8188000055651470</td><td>2016</td><td>3</td><td>26</td><td>2016-04-26T13:49:36+0000</td><td>1163.54</td><td>8188</td><td>CN</td><td>20160326</td><td>1</td><td>&lt;null&gt;</td><td></td><td>The Kroger Co.</td><td>49</td><td>&lt;null&gt;</td><td>&lt;null&gt;</td><td>APPROVED</td><td>&lt;null&gt;</td><td>67eaed9e-f246-42e2-9cfe-4abeadc8d531</td><td>&lt;null&gt;</td></tr><tr><td>5726000071051017</td><td>2016</td><td>3</td><td>26</td><td>2016-04-26T13:49:35+0000</td><td>1903.15</td><td>5726</td><td>CN</td><td>20160326</td><td>1</td><td>&lt;null&gt;</td><td></td><td>Walgreen</td><td>49</td><td>&lt;null&gt;</td><td>&lt;null&gt;</td><td>APPROVED</td><td>&lt;null&gt;</td><td>9b78aa70-1c54-4e30-81fd-e7be815cb1ea</td><td>&lt;null&gt;</td></tr><tr><td>4964000060985210</td><td>2016</td><td>3</td><td>26</td><td>2016-04-26T13:49:35+0000</td><td>798.06</td><td>4964</td><td>CN</td><td>20160326</td><td>1</td><td>&lt;null&gt;</td><td></td><td>TJX</td><td>49</td><td>&lt;null&gt;</td><td>&lt;null&gt;</td><td>APPROVED</td><td>&lt;null&gt;</td><td>c1c05d54-4383-4cef-bde3-8282bd7a55f4</td><td>&lt;null&gt;</td></tr><tr><td>7026000071305927</td><td>2016</td><td>3</td><td>26</td><td>2016-04-26T13:49:37+0000</td><td>1363.79</td><td>7026</td><td>US</td><td>20160326</td><td>1</td><td>&lt;null&gt;</td><td>PA</td><td>Wal-Mart Stores</td><td>49</td><td>&lt;null&gt;</td><td>&lt;null&gt;</td><td>APPROVED</td><td>&lt;null&gt;</td><td>10eaaa88-28e4-450b-a7b5-13d77539268d</td><td>&lt;null&gt;</td></tr><tr><td>9021000078340839</td><td>2016</td><td>3</td><td>26</td><td>2016-04-26T13:49:38+0000</td><td>103.38</td><td>9021</td><td>ET</td><td>20160326</td><td>1</td><td>&lt;null&gt;</td><td></td><td>Toys R Us</td><td>49</td><td>&lt;null&gt;</td><td>&lt;null&gt;</td><td>APPROVED</td><td>&lt;null&gt;</td><td>9cb08bc3-aea1-4bd0-8617-8a6bf09914bd</td><td>&lt;null&gt;</td></tr><tr><td>0665000009683586</td><td>2016</td><td>3</td><td>26</td><td>2016-04-26T13:49:38+0000</td><td>1798.19</td><td>0665</td><td>BD</td><td>20160326</td><td>1</td><td>&lt;null&gt;</td><td></td><td>Walgreen</td><td>49</td><td>&lt;null&gt;</td><td>&lt;null&gt;</td><td>APPROVED</td><td>&lt;null&gt;</td><td>a6cd2022-0d87-4739-8d13-039fbb358991</td><td>&lt;null&gt;</td></tr></table>"
      ]
     },
     "execution_count": 2,
     "metadata": {},
     "output_type": "execute_result"
    }
   ],
   "source": [
    "%%cql select * from rtfap.transactions where solr_query = '{\"q\":\"*:*\", \"fq\":[\"txn_time:[NOW-30DAY TO *]\", \"-tags:Fraudulent\"]}'"
   ]
  },
  {
   "cell_type": "code",
   "execution_count": 3,
   "metadata": {
    "collapsed": false
   },
   "outputs": [
    {
     "data": {
      "text/html": [
       "<table><tr><th>facet_fields</th></tr><tr><td>{&quot;status&quot;:{&quot;approved&quot;:21560,&quot;rejected&quot;:1219}}</td></tr></table>"
      ]
     },
     "execution_count": 3,
     "metadata": {},
     "output_type": "execute_result"
    }
   ],
   "source": [
    "%%cql SELECT * FROM rtfap.transactions where solr_query='{\"q\":\"*:*\", \"facet\":{\"field\":\"status\"}}'"
   ]
  },
  {
   "cell_type": "code",
   "execution_count": 4,
   "metadata": {
    "collapsed": false
   },
   "outputs": [
    {
     "data": {
      "text/html": [
       "<table><tr><th>cc_no</th><th>year</th><th>month</th><th>day</th><th>txn_time</th><th>amount</th><th>cc_provider</th><th>country</th><th>date_text</th><th>hour</th><th>items</th><th>location</th><th>merchant</th><th>min</th><th>notes</th><th>solr_query</th><th>status</th><th>tags</th><th>txn_id</th><th>user_id</th></tr><tr><td>1234123412341236</td><td>2016</td><td>3</td><td>9</td><td>2016-03-09T11:04:59+0000</td><td>750.0</td><td>MASTERCARD</td><td>US</td><td>&lt;null&gt;</td><td>11</td><td>{belts=150.0, clothes=300.0, shoes=300.0}</td><td>TX</td><td>GAP</td><td>4</td><td>customer likes electronics</td><td>&lt;null&gt;</td><td>Approved</td><td>[HighValue]</td><td>092753</td><td>cary</td></tr><tr><td>1234123412341235</td><td>2016</td><td>3</td><td>9</td><td>2016-03-09T11:04:53+0000</td><td>800.0</td><td>VISA</td><td>GB</td><td>&lt;null&gt;</td><td>11</td><td>{chocolates=300.0, electronics=500.0}</td><td>UK</td><td>Harrods</td><td>4</td><td>customer likes electronics</td><td>&lt;null&gt;</td><td>Approved</td><td>[HighValue]</td><td>982538</td><td>simonanbridge</td></tr><tr><td>1234123412341234</td><td>2016</td><td>3</td><td>9</td><td>2016-03-09T11:04:19+0000</td><td>200.0</td><td>VISA</td><td>&lt;null&gt;</td><td>&lt;null&gt;</td><td>11</td><td>{dressshirt=50.0, trousers=125.0, tshirt=25.0}</td><td>San Francisco</td><td>Nordstrom</td><td>4</td><td>pretty good clothing</td><td>&lt;null&gt;</td><td>Approved</td><td>[Suspicious]</td><td>098765</td><td>kunalak</td></tr><tr><td>1234123412341234</td><td>2016</td><td>3</td><td>17</td><td>2016-03-17T21:04:19+0000</td><td>200.0</td><td>VISA</td><td>&lt;null&gt;</td><td>&lt;null&gt;</td><td>21</td><td>{dressshirt=50.0, trousers=125.0, tshirt=25.0}</td><td>San Francisco</td><td>Nordstrom</td><td>4</td><td>asked for discounts</td><td>&lt;null&gt;</td><td>Approved</td><td>[Fraudulent]</td><td>763629</td><td>kunalak</td></tr><tr><td>1234123412341237</td><td>2016</td><td>3</td><td>9</td><td>2016-03-09T12:30:00+0000</td><td>&lt;null&gt;</td><td>&lt;null&gt;</td><td>US</td><td>&lt;null&gt;</td><td>&lt;null&gt;</td><td>&lt;null&gt;</td><td>&lt;null&gt;</td><td>&lt;null&gt;</td><td>&lt;null&gt;</td><td>&lt;null&gt;</td><td>&lt;null&gt;</td><td>&lt;null&gt;</td><td>&lt;null&gt;</td><td>&lt;null&gt;</td><td>&lt;null&gt;</td></tr></table>"
      ]
     },
     "execution_count": 4,
     "metadata": {},
     "output_type": "execute_result"
    }
   ],
   "source": [
    "%%cql SELECT * FROM rtfap.transactions where solr_query='{\"q\":\"cc_no: 123412*\",  \"fq\":\"-status: Rejected\"}'"
   ]
  },
  {
   "cell_type": "code",
   "execution_count": 5,
   "metadata": {
    "collapsed": false
   },
   "outputs": [
    {
     "data": {
      "text/html": [
       "<table><tr><th>cc_no</th><th>year</th><th>month</th><th>day</th><th>txn_time</th><th>amount</th><th>cc_provider</th><th>country</th><th>date_text</th><th>hour</th><th>items</th><th>location</th><th>merchant</th><th>min</th><th>notes</th><th>solr_query</th><th>status</th><th>tags</th><th>txn_id</th><th>user_id</th></tr><tr><td>9021000078340839</td><td>2016</td><td>3</td><td>26</td><td>2016-04-26T13:49:38+0000</td><td>103.38</td><td>9021</td><td>ET</td><td>20160326</td><td>1</td><td>&lt;null&gt;</td><td></td><td>Toys R Us</td><td>49</td><td>&lt;null&gt;</td><td>&lt;null&gt;</td><td>APPROVED</td><td>&lt;null&gt;</td><td>9cb08bc3-aea1-4bd0-8617-8a6bf09914bd</td><td>&lt;null&gt;</td></tr><tr><td>1234123412341234</td><td>2016</td><td>3</td><td>9</td><td>2016-03-09T11:04:19+0000</td><td>200.0</td><td>VISA</td><td>&lt;null&gt;</td><td>&lt;null&gt;</td><td>11</td><td>{dressshirt=50.0, trousers=125.0, tshirt=25.0}</td><td>San Francisco</td><td>Nordstrom</td><td>4</td><td>pretty good clothing</td><td>&lt;null&gt;</td><td>Approved</td><td>[Suspicious]</td><td>098765</td><td>kunalak</td></tr><tr><td>1234123412341234</td><td>2016</td><td>3</td><td>17</td><td>2016-03-17T21:04:19+0000</td><td>200.0</td><td>VISA</td><td>&lt;null&gt;</td><td>&lt;null&gt;</td><td>21</td><td>{dressshirt=50.0, trousers=125.0, tshirt=25.0}</td><td>San Francisco</td><td>Nordstrom</td><td>4</td><td>asked for discounts</td><td>&lt;null&gt;</td><td>Approved</td><td>[Fraudulent]</td><td>763629</td><td>kunalak</td></tr><tr><td>9773000033919573</td><td>2016</td><td>3</td><td>26</td><td>2016-04-26T14:24:44+0000</td><td>195.46</td><td>9773</td><td>JP</td><td>20160326</td><td>2</td><td>&lt;null&gt;</td><td></td><td>YUM! Brands</td><td>24</td><td>&lt;null&gt;</td><td>&lt;null&gt;</td><td>APPROVED</td><td>&lt;null&gt;</td><td>a246e615-4bd8-4ce2-8f8d-f64fab09557d</td><td>&lt;null&gt;</td></tr><tr><td>2945000017090364</td><td>2016</td><td>3</td><td>26</td><td>2016-04-26T14:24:42+0000</td><td>119.39</td><td>2945</td><td>GH</td><td>20160326</td><td>2</td><td>&lt;null&gt;</td><td></td><td>Dollar General</td><td>24</td><td>&lt;null&gt;</td><td>&lt;null&gt;</td><td>APPROVED</td><td>&lt;null&gt;</td><td>8d1c1939-8a17-4ad1-82c6-67b3c62f0c6b</td><td>&lt;null&gt;</td></tr><tr><td>7512000056651251</td><td>2016</td><td>3</td><td>26</td><td>2016-04-26T14:24:45+0000</td><td>110.78</td><td>7512</td><td>IT</td><td>20160326</td><td>2</td><td>&lt;null&gt;</td><td></td><td>Wal-Mart Stores</td><td>24</td><td>&lt;null&gt;</td><td>&lt;null&gt;</td><td>APPROVED</td><td>&lt;null&gt;</td><td>1a975d23-790f-498d-a7e9-d5b6fc112aaf</td><td>&lt;null&gt;</td></tr><tr><td>7614000023109881</td><td>2016</td><td>3</td><td>26</td><td>2016-04-26T14:25:03+0000</td><td>160.85</td><td>7614</td><td>IN</td><td>20160326</td><td>2</td><td>&lt;null&gt;</td><td></td><td>Wal-Mart Stores</td><td>25</td><td>&lt;null&gt;</td><td>&lt;null&gt;</td><td>APPROVED</td><td>&lt;null&gt;</td><td>3d242cf8-bec3-42db-8702-ad0471c98c68</td><td>&lt;null&gt;</td></tr><tr><td>8713000080535415</td><td>2016</td><td>3</td><td>26</td><td>2016-04-26T14:25:08+0000</td><td>165.87</td><td>8713</td><td>US</td><td>20160326</td><td>2</td><td>&lt;null&gt;</td><td>GA</td><td>Wal-Mart Stores</td><td>25</td><td>&lt;null&gt;</td><td>&lt;null&gt;</td><td>APPROVED</td><td>&lt;null&gt;</td><td>08c9ce42-dcd5-4bc8-a8c5-c26dfa4baf5d</td><td>&lt;null&gt;</td></tr><tr><td>9484000036598457</td><td>2016</td><td>3</td><td>26</td><td>2016-04-26T14:25:10+0000</td><td>104.93</td><td>9484</td><td>IN</td><td>20160326</td><td>2</td><td>&lt;null&gt;</td><td></td><td>Ross Stores</td><td>25</td><td>&lt;null&gt;</td><td>&lt;null&gt;</td><td>APPROVED</td><td>&lt;null&gt;</td><td>eeca2651-0529-49e3-910b-81402a27490e</td><td>&lt;null&gt;</td></tr><tr><td>1849000010978048</td><td>2016</td><td>3</td><td>26</td><td>2016-04-26T14:25:05+0000</td><td>122.81</td><td>1849</td><td>US</td><td>20160326</td><td>2</td><td>&lt;null&gt;</td><td>WI</td><td>Wal-Mart Stores</td><td>25</td><td>&lt;null&gt;</td><td>&lt;null&gt;</td><td>APPROVED</td><td>&lt;null&gt;</td><td>51fa81ff-96ac-40d9-b217-3e3bb25af86e</td><td>&lt;null&gt;</td></tr></table>"
      ]
     },
     "execution_count": 5,
     "metadata": {},
     "output_type": "execute_result"
    }
   ],
   "source": [
    "%%cql select * from rtfap.transactions where solr_query='{\"q\":\"*:*\", \"fq\":[\"amount:[100 TO 200]\"]}'"
   ]
  },
  {
   "cell_type": "markdown",
   "metadata": {},
   "source": [
    "# Spark/SparkSQL, Spark-Cassandra Connector "
   ]
  },
  {
   "cell_type": "code",
   "execution_count": 1,
   "metadata": {
    "collapsed": false
   },
   "outputs": [
    {
     "data": {
      "text/plain": [
       "org.apache.spark.sql.DataFrame = []"
      ]
     },
     "execution_count": 1,
     "metadata": {},
     "output_type": "execute_result"
    }
   ],
   "source": [
    "sqlContext.sql(\"\"\"CREATE TEMPORARY TABLE temp_transactions\n",
    "     USING org.apache.spark.sql.cassandra\n",
    "     OPTIONS (\n",
    "       table \"transactions\",\n",
    "       keyspace \"rtfap\",\n",
    "       cluster \"Test Cluster\",\n",
    "       pushdown \"true\"\n",
    "     )\"\"\")"
   ]
  },
  {
   "cell_type": "code",
   "execution_count": 8,
   "metadata": {
    "collapsed": false
   },
   "outputs": [
    {
     "name": "stdout",
     "output_type": "stream",
     "text": [
      "+--------------------+----------------+-------+-----------+-----+--------+--------------------+-----+--------+--------------------+-------+----+--------+\n",
      "|            txn_time|           cc_no| amount|cc_provider|items|location|            merchant|notes|  status|              txn_id|user_id|tags|     day|\n",
      "+--------------------+----------------+-------+-----------+-----+--------+--------------------+-----+--------+--------------------+-------+----+--------+\n",
      "|2016-04-25 14:45:...|2312000065673895|1299.48|       2312| null|        |Apple Store / iTunes| null|APPROVED|97e0fec0-e80e-463...|   null|null|20160425|\n",
      "|2016-04-25 14:40:...|9025000065124606| 676.88|       9025| null|        |Defense Commissar...| null|APPROVED|b524a43a-d8c9-4ab...|   null|null|20160425|\n",
      "|2016-04-25 15:02:...|8219000099589944|2078.94|       8219| null|        |          Amazon.com| null|APPROVED|1fa4cef9-4cbb-433...|   null|null|20160425|\n",
      "|2016-04-25 14:45:...|7235000076720013|1273.95|       7235| null|        |     Wal-Mart Stores| null|APPROVED|adb19aa9-c99d-484...|   null|null|20160425|\n",
      "|2016-04-25 15:11:...|7700000090403145|1243.36|       7700| null|        |     Wal-Mart Stores| null|APPROVED|14c5b0bf-f95d-4d0...|   null|null|20160425|\n",
      "|2016-04-25 15:41:...|0986000046056720|1829.31|       0986| null|        |    Lowe's Companies| null|APPROVED|b91af2a1-cd7e-495...|   null|null|20160425|\n",
      "|2016-04-25 14:42:...|4311000069404837|1835.54|       4311| null|        |               Bi-Lo| null|APPROVED|7771d183-104d-40b...|   null|null|20160425|\n",
      "|2016-04-25 15:03:...|2572000012921607|  715.8|       2572| null|        |                Aldi| null|APPROVED|61a11d4f-a4f0-42c...|   null|null|20160425|\n",
      "|2016-04-25 15:03:...|8571000099430399| 1439.4|       8571| null|        |      Dollar General| null|APPROVED|c463eef6-6157-4bc...|   null|null|20160425|\n",
      "|2016-04-25 14:41:...|3697000046760899|1768.82|       3697| null|        |         WinCo Foods| null|APPROVED|80396083-d863-4cd...|   null|null|20160425|\n",
      "|2016-04-25 14:41:...|3194000074020812| 1691.7|       3194| null|        |      The Kroger Co.| null|APPROVED|8df342b0-d861-4ec...|   null|null|20160425|\n",
      "|2016-04-25 15:40:...|2910000079882008|1955.98|       2910| null|        |              Costco| null|APPROVED|bbdfc431-afe2-426...|   null|null|20160425|\n",
      "|2016-04-25 15:37:...|8241000024174421|2731.57|       8241| null|        |              Meijer| null|APPROVED|824ff0ea-326d-4df...|   null|null|20160425|\n",
      "|2016-04-25 15:41:...|3387000033179195|2010.72|       3387| null|        |      The Home Depot| null|APPROVED|ff8e0dd7-0aa1-4c9...|   null|null|20160425|\n",
      "|2016-04-25 14:40:...|9236000052458222|1127.48|       9236| null|        |          McDonald's| null|APPROVED|b64288a3-78de-464...|   null|null|20160425|\n",
      "|2016-04-25 14:41:...|0922000036098253| 952.91|       0922| null|        |     Wal-Mart Stores| null|APPROVED|44771bae-e40c-4f6...|   null|null|20160425|\n",
      "|2016-04-25 14:41:...|9360000044873179|1784.69|       9360| null|        |            Best Buy| null|APPROVED|4e372df7-cabd-490...|   null|null|20160425|\n",
      "|2016-04-25 15:03:...|2123000008951486| 889.57|       2123| null|        |      The Kroger Co.| null|APPROVED|7811ed2a-e783-420...|   null|null|20160425|\n",
      "|2016-04-25 15:37:...|6844000048961155| 860.56|       6844| null|        |      The Kroger Co.| null|APPROVED|69a9ba30-cba7-422...|   null|null|20160425|\n",
      "|2016-04-25 15:04:...|7293000007896964| 984.76|       7293| null|        |Apple Store / iTunes| null|APPROVED|be2e73be-7e75-4fe...|   null|null|20160425|\n",
      "+--------------------+----------------+-------+-----------+-----+--------+--------------------+-----+--------+--------------------+-------+----+--------+\n",
      "\n",
      "6401root\n",
      " |-- txn_time: timestamp (nullable = true)\n",
      " |-- cc_no: string (nullable = true)\n",
      " |-- amount: double (nullable = true)\n",
      " |-- cc_provider: string (nullable = true)\n",
      " |-- items: map (nullable = true)\n",
      " |    |-- key: string\n",
      " |    |-- value: double (valueContainsNull = true)\n",
      " |-- location: string (nullable = true)\n",
      " |-- merchant: string (nullable = true)\n",
      " |-- notes: string (nullable = true)\n",
      " |-- status: string (nullable = true)\n",
      " |-- txn_id: string (nullable = true)\n",
      " |-- user_id: string (nullable = true)\n",
      " |-- tags: array (nullable = true)\n",
      " |    |-- element: string (containsNull = true)\n",
      " |-- day: integer (nullable = true)\n",
      "\n"
     ]
    }
   ],
   "source": [
    "val rollup1= sqlContext.sql(\"select txn_time, cc_no, amount, cc_provider, items, location, merchant, notes, status, txn_id, user_id, tags, int(translate(string(date(txn_time)),'-','')) as day from temp_transactions\")    \n",
    "\n",
    "rollup1 show\n",
    "print(rollup1.count)\n",
    "rollup1 printSchema\n",
    "\n",
    "import org.apache.spark.sql.SaveMode\n",
    "\n",
    "rollup1.write.format(\"org.apache.spark.sql.cassandra\")\n",
    ".mode(SaveMode.Overwrite)\n",
    ".options(Map(\"keyspace\" -> \"rtfap\", \"table\" -> \"dailytxns_bymerchant\"))\n",
    ".save()"
   ]
  },
  {
   "cell_type": "code",
   "execution_count": 9,
   "metadata": {
    "collapsed": false
   },
   "outputs": [
    {
     "name": "stdout",
     "output_type": "stream",
     "text": [
      "+-----------+-----+\n",
      "|cc_provider|count|\n",
      "+-----------+-----+\n",
      "|       0369|    1|\n",
      "|       0864|    2|\n",
      "|       3988|    1|\n",
      "|       4923|    1|\n",
      "|       4428|    1|\n",
      "|       9829|    1|\n",
      "|       8938|    1|\n",
      "|       8776|    2|\n",
      "|       9667|    2|\n",
      "|       7272|    2|\n",
      "|       9054|    1|\n",
      "|       1142|    1|\n",
      "|       2484|    1|\n",
      "|       3375|    2|\n",
      "|       4310|    1|\n",
      "|       4266|    1|\n",
      "|       6048|    1|\n",
      "|       7885|    1|\n",
      "|       1305|    1|\n",
      "|       0865|    1|\n",
      "+-----------+-----+\n",
      "\n"
     ]
    }
   ],
   "source": [
    "rollup1.groupBy(\"cc_provider\").count.show"
   ]
  },
  {
   "cell_type": "code",
   "execution_count": 10,
   "metadata": {
    "collapsed": false
   },
   "outputs": [
    {
     "data": {
      "text/html": [
       "<table><tr><th>merchant</th><th>day</th><th>txn_time</th><th>txn_id</th><th>max_amount</th><th>min_amount</th><th>total_amount</th><th>total_count</th><th>amount</th><th>cc_no</th><th>cc_provider</th><th>items</th><th>location</th><th>notes</th><th>status</th><th>tags</th><th>user_id</th></tr><tr><td>Nordstrom</td><td>20160317</td><td>2016-03-17T21:04:19+0000</td><td>763629</td><td>&lt;null&gt;</td><td>&lt;null&gt;</td><td>&lt;null&gt;</td><td>&lt;null&gt;</td><td>200.0</td><td>1234123412341234</td><td>VISA</td><td>{dressshirt=50.0, trousers=125.0, tshirt=25.0}</td><td>San Francisco</td><td>asked for discounts</td><td>Approved</td><td>[Fraudulent]</td><td>kunalak</td></tr></table>"
      ]
     },
     "execution_count": 10,
     "metadata": {},
     "output_type": "execute_result"
    }
   ],
   "source": [
    "%%cql select * from rtfap.dailytxns_bymerchant where merchant='Nordstrom' and day=20160317 limit 5"
   ]
  },
  {
   "cell_type": "code",
   "execution_count": 11,
   "metadata": {
    "collapsed": false
   },
   "outputs": [
    {
     "data": {
      "text/html": [
       "<table><tr><th>merchant</th><th>day</th><th>txn_time</th><th>txn_id</th><th>max_amount</th><th>min_amount</th><th>total_amount</th><th>total_count</th><th>amount</th><th>cc_no</th><th>cc_provider</th><th>items</th><th>location</th><th>notes</th><th>status</th><th>tags</th><th>user_id</th></tr><tr><td>AT&amp;T Wireless</td><td>20160425</td><td>2016-04-26T00:00:00+0000</td><td>1461641847187</td><td>2487.24</td><td>43.11</td><td>60186.409999999974</td><td>48</td><td>&lt;null&gt;</td><td>&lt;null&gt;</td><td>&lt;null&gt;</td><td>&lt;null&gt;</td><td>&lt;null&gt;</td><td>&lt;null&gt;</td><td>&lt;null&gt;</td><td>&lt;null&gt;</td><td>&lt;null&gt;</td></tr><tr><td>AT&amp;T Wireless</td><td>20160425</td><td>2016-04-25T15:41:39+0000</td><td>1a5dc25e-e7c3-4226-8ed5-177d40dac64d</td><td>2487.24</td><td>43.11</td><td>60186.409999999974</td><td>48</td><td>1408.33</td><td>3065000037198138</td><td>3065</td><td>&lt;null&gt;</td><td></td><td>&lt;null&gt;</td><td>APPROVED</td><td>&lt;null&gt;</td><td>&lt;null&gt;</td></tr><tr><td>AT&amp;T Wireless</td><td>20160425</td><td>2016-04-25T15:41:35+0000</td><td>2ad9b43c-b0f0-4cda-96f6-7140b72e6e29</td><td>2487.24</td><td>43.11</td><td>60186.409999999974</td><td>48</td><td>1288.28</td><td>8460000086177555</td><td>8460</td><td>&lt;null&gt;</td><td>MI</td><td>&lt;null&gt;</td><td>APPROVED</td><td>&lt;null&gt;</td><td>&lt;null&gt;</td></tr><tr><td>AT&amp;T Wireless</td><td>20160425</td><td>2016-04-25T15:37:36+0000</td><td>57c34c73-da85-435e-8b9f-5ae3234c2323</td><td>2487.24</td><td>43.11</td><td>60186.409999999974</td><td>48</td><td>2074.57</td><td>1915000037044188</td><td>1915</td><td>&lt;null&gt;</td><td></td><td>&lt;null&gt;</td><td>APPROVED</td><td>&lt;null&gt;</td><td>&lt;null&gt;</td></tr><tr><td>AT&amp;T Wireless</td><td>20160425</td><td>2016-04-25T15:37:35+0000</td><td>b6ff95d6-cd4c-4d7c-8ca3-ac1e4635ce07</td><td>2487.24</td><td>43.11</td><td>60186.409999999974</td><td>48</td><td>399.07</td><td>3778000030194142</td><td>3778</td><td>&lt;null&gt;</td><td></td><td>&lt;null&gt;</td><td>APPROVED</td><td>&lt;null&gt;</td><td>&lt;null&gt;</td></tr></table>"
      ]
     },
     "execution_count": 11,
     "metadata": {},
     "output_type": "execute_result"
    }
   ],
   "source": [
    "%%cql select * from rtfap.dailytxns_bymerchant limit 5"
   ]
  },
  {
   "cell_type": "code",
   "execution_count": 13,
   "metadata": {
    "collapsed": false
   },
   "outputs": [
    {
     "data": {
      "text/plain": [
       "org.apache.spark.sql.DataFrame = []"
      ]
     },
     "execution_count": 13,
     "metadata": {},
     "output_type": "execute_result"
    }
   ],
   "source": [
    "sqlContext.sql(\"\"\"CREATE TEMPORARY TABLE temp_dailytxns_bymerchant\n",
    "     USING org.apache.spark.sql.cassandra\n",
    "     OPTIONS (\n",
    "       table \"dailytxns_bymerchant\",\n",
    "       keyspace \"rtfap\",\n",
    "       cluster \"Test Cluster\",\n",
    "       pushdown \"true\"\n",
    "     )\"\"\")\n",
    "     \n",
    "\n"
   ]
  },
  {
   "cell_type": "code",
   "execution_count": 13,
   "metadata": {
    "collapsed": false
   },
   "outputs": [
    {
     "name": "stdout",
     "output_type": "stream",
     "text": [
      "2016-04-26T02:52:50.983"
     ]
    }
   ],
   "source": [
    "import java.util.Calendar \n",
    "import java.text.SimpleDateFormat\n",
    "\n",
    "val today = Calendar.getInstance.getTime\n",
    "val datetimeformat= new SimpleDateFormat(\"yyyy-MM-dd'T'HH:mm:ss.SSS\")\n",
    "print(datetimeformat.format(today))"
   ]
  },
  {
   "cell_type": "code",
   "execution_count": 18,
   "metadata": {
    "collapsed": false
   },
   "outputs": [
    {
     "data": {
      "text/plain": [
       "org.apache.spark.sql.UserDefinedFunction = UserDefinedFunction(<function0>,LongType)"
      ]
     },
     "execution_count": 18,
     "metadata": {},
     "output_type": "execute_result"
    }
   ],
   "source": [
    "sqlContext.udf.register(\"now\", () => System.currentTimeMillis)"
   ]
  },
  {
   "cell_type": "code",
   "execution_count": 20,
   "metadata": {
    "collapsed": false
   },
   "outputs": [
    {
     "name": "stdout",
     "output_type": "stream",
     "text": [
      "+-------------+-----------+\n",
      "|          _c0|   merchant|\n",
      "+-------------+-----------+\n",
      "|1461706038825|Dollar Tree|\n",
      "|1461706038849|Dollar Tree|\n",
      "|1461706038849|Dollar Tree|\n",
      "|1461706038849|Dollar Tree|\n",
      "|1461706038849|Dollar Tree|\n",
      "+-------------+-----------+\n",
      "\n"
     ]
    }
   ],
   "source": [
    "sqlContext.sql(\"select now(), merchant from temp_dailytxns_bymerchant\").show(5)"
   ]
  },
  {
   "cell_type": "code",
   "execution_count": 21,
   "metadata": {
    "collapsed": false
   },
   "outputs": [
    {
     "name": "stdout",
     "output_type": "stream",
     "text": [
      "root\n",
      " |-- txn_time: date (nullable = true)\n",
      " |-- txn_id: string (nullable = true)\n",
      " |-- merchant: string (nullable = true)\n",
      " |-- day: integer (nullable = true)\n",
      " |-- total_count: long (nullable = false)\n",
      " |-- total_amount: double (nullable = true)\n",
      " |-- min_amount: double (nullable = true)\n",
      " |-- max_amount: double (nullable = true)\n",
      "\n",
      "+----------+-------------+--------------------+--------+-----------+------------------+----------+----------+\n",
      "|  txn_time|       txn_id|            merchant|     day|total_count|      total_amount|min_amount|max_amount|\n",
      "+----------+-------------+--------------------+--------+-----------+------------------+----------+----------+\n",
      "|2016-04-26|1461639450633|            Walgreen|20160425|        230|263474.87999999995|     17.59|   3693.63|\n",
      "|2016-04-26|1461639450766|              Meijer|20160425|         66|          81280.07|    115.38|   3140.23|\n",
      "|2016-04-26|1461639450891|         Foot Locker|20160425|         18|          21722.48|    113.53|   2315.27|\n",
      "|2016-04-26|1461639450898|           Dillard's|20160425|         20|19188.989999999998|     34.71|   2403.67|\n",
      "|2016-04-26|1461639450811|            AutoZone|20160425|         26|30088.059999999998|    155.13|   2341.22|\n",
      "|2016-04-26|1461639450853|        Office Depot|20160425|         16|22420.839999999997|      2.62|   2469.48|\n",
      "|2016-04-26|1461639450854|          McDonald's|20160425|        133|162440.72999999998|     27.82|   3008.93|\n",
      "|2016-04-26|1461639450837|      The Kroger Co.|20160425|        353| 446811.4499999997|       2.8|   3403.37|\n",
      "|2016-04-26|1461639450869|              Target|20160425|        260|312127.33999999973|     11.25|   3040.66|\n",
      "|2016-04-26|1461639450904|       AT&T Wireless|20160425|         48|60186.409999999974|     43.11|   2487.24|\n",
      "|2016-04-26|1461639450901|          Amazon.com|20160425|        165|216976.40999999995|     45.98|   3142.28|\n",
      "|2016-04-26|1461639450922|      Dollar General|20160425|         74| 78129.71999999999|      4.58|   3029.25|\n",
      "|2016-04-26|1461639450939|  Advance Auto Parts|20160425|         14|          10816.56|    155.81|   2201.43|\n",
      "|2016-04-26|1461639450927|               Bi-Lo|20160425|         38|          45046.64|     38.36|    2795.3|\n",
      "|2016-04-26|1461639451035|Save Mart Superma...|20160425|         12|13231.259999999998|    361.17|   2078.05|\n",
      "|2016-04-26|1461639451081|       H-E-B Grocery|20160425|         48|          51218.49|     10.43|   2592.82|\n",
      "|2016-04-26|1461639451115|Burger King World...|20160425|         24|          25019.65|    126.56|   2294.19|\n",
      "|2016-04-26|1461639451035|     J.C. Penney Co.|20160425|         39|          47152.21|     99.91|   2337.14|\n",
      "|2016-04-26|1461639451094|             Harrods|20160309|          1|             800.0|     800.0|     800.0|\n",
      "|2016-04-26|1461639451069|      Barnes & Noble|20160425|         19|25817.870000000003|     95.19|   3215.58|\n",
      "+----------+-------------+--------------------+--------+-----------+------------------+----------+----------+\n",
      "\n"
     ]
    }
   ],
   "source": [
    "val rollup2= sqlContext.sql(\"select date(timestamp(now())) as txn_time,  string(now()) as txn_id, merchant, day, count(*) as total_count, sum(amount) as total_amount, min(amount) as min_amount, max(amount) as max_amount from temp_dailytxns_bymerchant group by merchant, day\")\n",
    "rollup2 printSchema\n",
    "rollup2 show"
   ]
  },
  {
   "cell_type": "code",
   "execution_count": 7,
   "metadata": {
    "collapsed": false
   },
   "outputs": [],
   "source": [
    "import org.apache.spark.sql.SaveMode\n",
    "rollup2.write.format(\"org.apache.spark.sql.cassandra\")\n",
    "        .mode(SaveMode.Append)\n",
    "        .options(Map(\"keyspace\" -> \"rtfap\", \"table\" -> \"dailytxns_bymerchant\"))\n",
    "        .save()"
   ]
  },
  {
   "cell_type": "code",
   "execution_count": 24,
   "metadata": {
    "collapsed": false
   },
   "outputs": [
    {
     "name": "stdout",
     "output_type": "stream",
     "text": [
      "+----------------+--------+------------+----------+----------+\n",
      "|           cc_no|     day|total_amount|min_amount|max_amount|\n",
      "+----------------+--------+------------+----------+----------+\n",
      "|8285000045431006|20160325|       55.39|     55.39|     55.39|\n",
      "|3263000072622223|20160325|     1410.96|   1410.96|   1410.96|\n",
      "|6497000094263282|20160325|     2803.51|   2803.51|   2803.51|\n",
      "|6623000049691301|20160325|      659.93|    659.93|    659.93|\n",
      "|8263000075540657|20160325|      2148.0|    2148.0|    2148.0|\n",
      "|1510000039615937|20160325|     1211.23|   1211.23|   1211.23|\n",
      "|5760000011863816|20160325|      164.72|    164.72|    164.72|\n",
      "|9573000038546729|20160325|     2589.37|   2589.37|   2589.37|\n",
      "|5647000005396982|20160325|     1833.45|   1833.45|   1833.45|\n",
      "|8910000025150739|20160325|     1927.86|   1927.86|   1927.86|\n",
      "|3321000015731039|20160325|     1519.77|   1519.77|   1519.77|\n",
      "|7882000038124120|20160325|     1472.06|   1472.06|   1472.06|\n",
      "|3117000055112992|20160325|      801.48|    801.48|    801.48|\n",
      "|5591000075606109|20160325|      403.88|    403.88|    403.88|\n",
      "|7647000065261712|20160325|     1605.32|   1605.32|   1605.32|\n",
      "|6760000047533377|20160325|     1518.88|   1518.88|   1518.88|\n",
      "|9161000065346557|20160325|       844.0|     844.0|     844.0|\n",
      "|4665000093979851|20160325|     2833.78|   2833.78|   2833.78|\n",
      "|5099000064836556|20160325|     1181.19|   1181.19|   1181.19|\n",
      "|3101000053389443|20160325|      797.15|    797.15|    797.15|\n",
      "+----------------+--------+------------+----------+----------+\n",
      "\n",
      "6390root\n",
      " |-- cc_no: string (nullable = true)\n",
      " |-- day: integer (nullable = true)\n",
      " |-- total_amount: double (nullable = true)\n",
      " |-- min_amount: double (nullable = true)\n",
      " |-- max_amount: double (nullable = true)\n",
      "\n"
     ]
    }
   ],
   "source": [
    "//val rollup3= sqlContext.sql(\"select cc_no, int(concat(year,month,day)) as day, sum(amount) as total_amount, min(amount) as min_amount, max(amount) as max_amount from temp_transactions group by cc_no, int(concat(year,month,day))\")    \n",
    "val rollup3= sqlContext.sql(\"select cc_no, int(concat(year, if(length(month)=1, concat('0',month), month),if(length(day)=1, concat('0',day), day))) as day, sum(amount) as total_amount, min(amount) as min_amount, max(amount) as max_amount from temp_transactions group by cc_no, concat(year, if(length(month)=1, concat('0',month), month),if(length(day)=1, concat('0',day), day))\")    \n",
    "\n",
    "rollup3 show\n",
    "print(rollup3.count)\n",
    "rollup3 printSchema"
   ]
  },
  {
   "cell_type": "code",
   "execution_count": 25,
   "metadata": {
    "collapsed": false
   },
   "outputs": [
    {
     "name": "stdout",
     "output_type": "stream",
     "text": [
      "+----------------+----------+------------+----------+----------+\n",
      "|           cc_no|      hour|total_amount|min_amount|max_amount|\n",
      "+----------------+----------+------------+----------+----------+\n",
      "|4385000006838041|2016032502|      159.09|    159.09|    159.09|\n",
      "|7371000097506133|2016032502|     1259.07|   1259.07|   1259.07|\n",
      "|3845000065676698|2016032503|      348.82|    348.82|    348.82|\n",
      "|6334000073458956|2016032503|      208.33|    208.33|    208.33|\n",
      "|5098000021808114|2016032503|     1190.56|   1190.56|   1190.56|\n",
      "|4637000096294021|2016032503|     1672.98|   1672.98|   1672.98|\n",
      "|3241000016236977|2016032503|     2035.55|   2035.55|   2035.55|\n",
      "|5468000053035767|2016032503|     2329.27|   2329.27|   2329.27|\n",
      "|2415000010535829|2016032503|      670.31|    670.31|    670.31|\n",
      "|3672000013357087|2016032502|     2092.22|   2092.22|   2092.22|\n",
      "|5920000067167826|2016032503|      288.93|    288.93|    288.93|\n",
      "|1650000057388704|2016032502|     1215.17|   1215.17|   1215.17|\n",
      "|0683000077703017|2016032503|     1352.81|   1352.81|   1352.81|\n",
      "|6928000076406628|2016032502|     2208.52|   2208.52|   2208.52|\n",
      "|9972000026737724|2016032503|      922.35|    922.35|    922.35|\n",
      "|8883000092263621|2016032502|     2173.16|   2173.16|   2173.16|\n",
      "|4757000089017335|2016032503|     2035.96|   2035.96|   2035.96|\n",
      "|2920000046392365|2016032503|     1668.89|   1668.89|   1668.89|\n",
      "|6086000098064386|2016032502|      901.18|    901.18|    901.18|\n",
      "|3208000063225146|2016032502|     1431.81|   1431.81|   1431.81|\n",
      "+----------------+----------+------------+----------+----------+\n",
      "\n",
      "6390root\n",
      " |-- cc_no: string (nullable = true)\n",
      " |-- hour: integer (nullable = true)\n",
      " |-- total_amount: double (nullable = true)\n",
      " |-- min_amount: double (nullable = true)\n",
      " |-- max_amount: double (nullable = true)\n",
      "\n"
     ]
    }
   ],
   "source": [
    "//val rollup4= sqlContext.sql(\"select cc_no, int(concat(year,month,day,hour)) as hour, sum(amount) as total_amount, min(amount) as min_amount, max(amount) as max_amount from temp_transactions group by cc_no, int(concat(year,month,day,hour))\")    \n",
    "val rollup4= sqlContext.sql(\"select cc_no, int(concat(year, if(length(month)=1, concat('0',month), month),if(length(day)=1, concat('0',day), day), if(length(hour)=1, concat('0',hour), hour))) as hour, sum(amount) as total_amount, min(amount) as min_amount, max(amount) as max_amount from temp_transactions group by cc_no, concat(year, if(length(month)=1, concat('0',month), month),if(length(day)=1, concat('0',day), day), if(length(hour)=1, concat('0',hour), hour))\")    \n",
    "rollup4 show\n",
    "print(rollup4.count)\n",
    "rollup4 printSchema"
   ]
  },
  {
   "cell_type": "code",
   "execution_count": 26,
   "metadata": {
    "collapsed": false
   },
   "outputs": [
    {
     "name": "stdout",
     "output_type": "stream",
     "text": [
      "+----------------+------+------------+----------+----------+\n",
      "|           cc_no| month|total_amount|min_amount|max_amount|\n",
      "+----------------+------+------------+----------+----------+\n",
      "|1092000089729011|201603|      752.77|    752.77|    752.77|\n",
      "|8607000054544606|201603|      383.09|    383.09|    383.09|\n",
      "|4369000095062191|201603|      941.67|    941.67|    941.67|\n",
      "|3058000009564555|201603|     2617.23|   2617.23|   2617.23|\n",
      "|0158000083344395|201603|      196.53|    196.53|    196.53|\n",
      "|6428000084294022|201603|     1396.43|   1396.43|   1396.43|\n",
      "|8069000025489901|201603|     1642.22|   1642.22|   1642.22|\n",
      "|7537000002021941|201603|      903.87|    903.87|    903.87|\n",
      "|8333000057653398|201603|     1940.03|   1940.03|   1940.03|\n",
      "|0305000034522128|201603|     1134.74|   1134.74|   1134.74|\n",
      "|2707000048082225|201603|      2044.8|    2044.8|    2044.8|\n",
      "|4501000023017336|201603|      546.98|    546.98|    546.98|\n",
      "|9899000023678288|201603|      676.75|    676.75|    676.75|\n",
      "|0433000048021057|201603|       235.5|     235.5|     235.5|\n",
      "|1574000032644559|201603|      840.07|    840.07|    840.07|\n",
      "|6834000093682116|201603|     2065.68|   2065.68|   2065.68|\n",
      "|9500000074103820|201603|     2747.46|   2747.46|   2747.46|\n",
      "|4376000014668398|201603|      1289.3|    1289.3|    1289.3|\n",
      "|5103000025556403|201603|     1394.66|   1394.66|   1394.66|\n",
      "|5821000068289871|201603|     2158.28|   2158.28|   2158.28|\n",
      "+----------------+------+------------+----------+----------+\n",
      "\n",
      "6389root\n",
      " |-- cc_no: string (nullable = true)\n",
      " |-- month: integer (nullable = true)\n",
      " |-- total_amount: double (nullable = true)\n",
      " |-- min_amount: double (nullable = true)\n",
      " |-- max_amount: double (nullable = true)\n",
      "\n"
     ]
    }
   ],
   "source": [
    "//val rollup5= sqlContext.sql(\"select cc_no, int(concat(year,month)) as month, sum(amount) as total_amount, min(amount) as min_amount, max(amount) as max_amount from temp_transactions group by cc_no, int(concat(year,month))\")    \n",
    "val rollup5= sqlContext.sql(\"select cc_no, int(concat(year, if(length(month)=1, concat('0',month), month))) as month, sum(amount) as total_amount, min(amount) as min_amount, max(amount) as max_amount from temp_transactions group by cc_no, concat(year, if(length(month)=1, concat('0',month), month))\")    \n",
    "\n",
    "rollup5 show\n",
    "print(rollup5.count)\n",
    "rollup5 printSchema"
   ]
  },
  {
   "cell_type": "code",
   "execution_count": 27,
   "metadata": {
    "collapsed": false
   },
   "outputs": [
    {
     "name": "stdout",
     "output_type": "stream",
     "text": [
      "+----------------+----+------------+----------+----------+\n",
      "|           cc_no|year|total_amount|min_amount|max_amount|\n",
      "+----------------+----+------------+----------+----------+\n",
      "|6871000014202740|2016|     1167.19|   1167.19|   1167.19|\n",
      "|5656000043584196|2016|      604.12|    604.12|    604.12|\n",
      "|8465000002845181|2016|      208.91|    208.91|    208.91|\n",
      "|0902000085191414|2016|      356.51|    356.51|    356.51|\n",
      "|6563000015973193|2016|      712.69|    712.69|    712.69|\n",
      "|5759000045791732|2016|     2093.36|   2093.36|   2093.36|\n",
      "|1402000045706401|2016|      467.47|    467.47|    467.47|\n",
      "|1527000006711655|2016|     1998.45|   1998.45|   1998.45|\n",
      "|1385000099448131|2016|     2080.15|   2080.15|   2080.15|\n",
      "|0283000064415201|2016|     1043.62|   1043.62|   1043.62|\n",
      "|6107000045959495|2016|      430.65|    430.65|    430.65|\n",
      "|1681000099088374|2016|      939.96|    939.96|    939.96|\n",
      "|9614000078994735|2016|      2255.3|    2255.3|    2255.3|\n",
      "|7336000051976627|2016|      481.01|    481.01|    481.01|\n",
      "|8921000095182926|2016|      677.42|    677.42|    677.42|\n",
      "|2697000076011577|2016|     2394.74|   2394.74|   2394.74|\n",
      "|0347000068227159|2016|     1419.81|   1419.81|   1419.81|\n",
      "|1338000002057296|2016|     1167.19|   1167.19|   1167.19|\n",
      "|6013000027071593|2016|     2066.27|   2066.27|   2066.27|\n",
      "|6848000052909720|2016|      555.24|    555.24|    555.24|\n",
      "+----------------+----+------------+----------+----------+\n",
      "\n",
      "6389root\n",
      " |-- cc_no: string (nullable = true)\n",
      " |-- year: integer (nullable = true)\n",
      " |-- total_amount: double (nullable = true)\n",
      " |-- min_amount: double (nullable = true)\n",
      " |-- max_amount: double (nullable = true)\n",
      "\n"
     ]
    }
   ],
   "source": [
    "val rollup6= sqlContext.sql(\"select cc_no, int(year) as year, sum(amount) as total_amount, min(amount) as min_amount, max(amount) as max_amount from temp_transactions group by cc_no, int(year)\")    \n",
    "\n",
    "rollup6 show\n",
    "print(rollup6.count)\n",
    "rollup6 printSchema"
   ]
  },
  {
   "cell_type": "code",
   "execution_count": 9,
   "metadata": {
    "collapsed": true
   },
   "outputs": [],
   "source": [
    "case class flights_by_airtime(air_time: Int, origin_airport_id: String ,dest_airport_id: String, carrier: String, id: Int, dep_time: Int, arr_time: Int)"
   ]
  },
  {
   "cell_type": "code",
   "execution_count": 10,
   "metadata": {
    "collapsed": false
   },
   "outputs": [],
   "source": [
    "import sqlContext.implicits._\n",
    "val mydf2 = sc.textFile(\"file:////home/datastax/flights_by_airtime.csv\").map(_.split(\",\")).map(line => flights_by_airtime( line(0).trim.toInt, line(1), line(2),line(3),line(4).trim.toInt,line(5).trim.toInt,line(6).trim.toInt)).toDF()"
   ]
  },
  {
   "cell_type": "code",
   "execution_count": 12,
   "metadata": {
    "collapsed": false
   },
   "outputs": [
    {
     "name": "stdout",
     "output_type": "stream",
     "text": [
      "root\n",
      " |-- air_time: integer (nullable = false)\n",
      " |-- origin_airport_id: string (nullable = true)\n",
      " |-- dest_airport_id: string (nullable = true)\n",
      " |-- carrier: string (nullable = true)\n",
      " |-- id: integer (nullable = false)\n",
      " |-- dep_time: integer (nullable = false)\n",
      " |-- arr_time: integer (nullable = false)\n",
      "\n"
     ]
    },
    {
     "data": {
      "text/plain": [
       "Array[org.apache.spark.sql.Row] = Array([49,RKS,SLC,OO,302602,1452,1553], [254,ORD,SEA,AS,531141,1826,2110], [73,ATL,MSY,FL,693077,840,914], [104,ORD,LGA,AA,4317,1138,1440], [46,PHX,ABQ,WN,927961,1056,1158], [284,SFO,EWR,UA,313395,2238,647], [244,CLT,PHX,US,368168,1428,1650], [28,RIC,IAD,EV,671830,2037,2120], [86,LGB,SLC,B6,62693,1421,1709], [141,BOS,ORD,AA,1000882,554,756])"
      ]
     },
     "execution_count": 12,
     "metadata": {},
     "output_type": "execute_result"
    }
   ],
   "source": [
    "mydf2.printSchema()\n",
    "mydf2.take(10)"
   ]
  },
  {
   "cell_type": "code",
   "execution_count": 13,
   "metadata": {
    "collapsed": false
   },
   "outputs": [],
   "source": [
    "import org.apache.spark.sql.SaveMode\n",
    "mydf2.write.format(\"org.apache.spark.sql.cassandra\")\n",
    "        .mode(SaveMode.Overwrite)\n",
    "        .options(Map(\"keyspace\" -> \"flightsdb\", \"table\" -> \"flights_by_airtime\"))\n",
    "        .save()"
   ]
  },
  {
   "cell_type": "code",
   "execution_count": null,
   "metadata": {
    "collapsed": true
   },
   "outputs": [],
   "source": []
  }
 ],
 "metadata": {
  "env": {
   "PYSPARK_SUBMIT_ARGS": "--executor-cores 2 --executor-memory 2G --num-executors 3"
  },
  "kernelspec": {
   "display_name": "Spark-DSE Cluster",
   "language": "scala",
   "name": "spark-dse-cluster"
  },
  "language_info": {
   "name": "scala"
  }
 },
 "nbformat": 4,
 "nbformat_minor": 0
}
